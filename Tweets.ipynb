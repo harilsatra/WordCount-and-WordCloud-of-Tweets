{
 "cells": [
  {
   "cell_type": "code",
   "execution_count": 1,
   "metadata": {
    "collapsed": false
   },
   "outputs": [
    {
     "name": "stderr",
     "output_type": "stream",
     "text": [
      "Installing package into 'C:/Users/Haril Satra/Documents/R/win-library/3.3'\n",
      "(as 'lib' is unspecified)\n"
     ]
    },
    {
     "name": "stdout",
     "output_type": "stream",
     "text": [
      "package 'twitteR' successfully unpacked and MD5 sums checked\n",
      "\n",
      "The downloaded binary packages are in\n",
      "\tC:\\Users\\Haril Satra\\AppData\\Local\\Temp\\Rtmp6T9imI\\downloaded_packages\n"
     ]
    }
   ],
   "source": [
    "#Install the package 'twitteR'.\n",
    "install.packages(\"twitteR\", repos = \"http://cran.r-project.org\")"
   ]
  },
  {
   "cell_type": "code",
   "execution_count": 2,
   "metadata": {
    "collapsed": false
   },
   "outputs": [
    {
     "name": "stderr",
     "output_type": "stream",
     "text": [
      "Warning message:\n",
      "\"package 'twitteR' was built under R version 3.3.3\""
     ]
    }
   ],
   "source": [
    "#Load the package 'twitteR'.\n",
    "library(twitteR)"
   ]
  },
  {
   "cell_type": "code",
   "execution_count": 3,
   "metadata": {
    "collapsed": true
   },
   "outputs": [],
   "source": [
    "#Store all the keys required to search using the twitter API.\n",
    "consumer_key <- \"SUomsISnPRRKwpabPW3kUZKZq\"\n",
    "consumer_secret <- \"SV84f6ugaYqHQsgxcHaOt2hiKsIsIdFBGt81cfiuHth8m91DNF\"\n",
    "access_token <- \"400906935-Hv4DJfDlpgyq4PYXJYdiycHc4eVCGCW9cmbczFwP\"\n",
    "access_secret <- \"rYufy3ycJXgXCnqHEebtXF44HdKX4L5AlGbf27jht64rq\""
   ]
  },
  {
   "cell_type": "code",
   "execution_count": 4,
   "metadata": {
    "collapsed": false
   },
   "outputs": [
    {
     "name": "stdout",
     "output_type": "stream",
     "text": [
      "[1] \"Using direct authentication\"\n"
     ]
    }
   ],
   "source": [
    "#Authenticate using OAUTH.\n",
    "setup_twitter_oauth(consumer_key,consumer_secret,access_token,access_secret)"
   ]
  },
  {
   "cell_type": "code",
   "execution_count": 6,
   "metadata": {
    "collapsed": false
   },
   "outputs": [
    {
     "name": "stderr",
     "output_type": "stream",
     "text": [
      "Warning message in doRppAPICall(\"search/tweets\", n, params = params, retryOnRateLimit = retryOnRateLimit, :\n",
      "\"20000 tweets were requested but the API can only return 15196\""
     ]
    },
    {
     "ename": "ERROR",
     "evalue": "Error in head(tweets): object 'tweets' not found\n",
     "output_type": "error",
     "traceback": [
      "Error in head(tweets): object 'tweets' not found\nTraceback:\n",
      "1. head(tweets)"
     ]
    }
   ],
   "source": [
    "#To collect tweets for a particular key word using the searchTwitter function\n",
    "tweet <- searchTwitter(\"Football+Soccer\", n=20000, lang=\"en\")"
   ]
  },
  {
   "cell_type": "code",
   "execution_count": 7,
   "metadata": {
    "collapsed": false
   },
   "outputs": [
    {
     "data": {
      "text/plain": [
       "[[1]]\n",
       "[1] \"Pop_sport: #Soccer #Sport Nike Mercurial Superfly FG 641858-803 Football Cleats Soccer Shoes Boots https://t.co/PfvyXTmX1V https://t.co/l1tbqIOwOw\"\n",
       "\n",
       "[[2]]\n",
       "[1] \"Julio_Reynolds: I love hockey and baseball and basketball and soccer and football and golf and track and sports\"\n",
       "\n",
       "[[3]]\n",
       "[1] \"Pinplayporno: RT @SuzyCortez_: Big News Coming!!! <ed><U+00A0><U+00BC><ed><U+00BE><U+00AC><ed><U+00A0><U+00BC><ed><U+00BE><U+00A5><ed><U+00A0><U+00BD><ed><U+00B2><U+0095> #adidas #soccer #football #futebol <U+26BD> Make up by @romanapavanelimua Photos by @alecfasani <ed><U+00A0><U+00BD><ed><U+00B3><U+00B7> https://",
       "\"\n",
       "\n",
       "[[4]]\n",
       "[1] \"AkAg_: @dono24 @BarailM Same shit dont act like you dont know football soccer no difference same meaning\"\n",
       "\n",
       "[[5]]\n",
       "[1] \"HotTrends8: #WorldCup #FIFA Vintage 2006 France FFF Adidas World Cup Soccer Futbol Jersey Medium MED https://t.co/JJP9d26wKo #FootBall #Deals\"\n",
       "\n",
       "[[6]]\n",
       "[1] \"_onemustang: RT @DanAbrahams77: Non-Negotiable Mental Skills for footballers...to be the VERY BEST you can be!!! #soccer #football https://t.co/oofY6nF6",
       "\"\n"
      ]
     },
     "metadata": {},
     "output_type": "display_data"
    }
   ],
   "source": [
    "head(tweet)"
   ]
  },
  {
   "cell_type": "code",
   "execution_count": 8,
   "metadata": {
    "collapsed": false
   },
   "outputs": [
    {
     "data": {
      "text/html": [
       "8674"
      ],
      "text/latex": [
       "8674"
      ],
      "text/markdown": [
       "8674"
      ],
      "text/plain": [
       "[1] 8674"
      ]
     },
     "metadata": {},
     "output_type": "display_data"
    }
   ],
   "source": [
    "tweets_rt <- strip_retweets(tweet, strip_manual=TRUE, strip_mt=TRUE)\n",
    "length(tweets_rt)"
   ]
  },
  {
   "cell_type": "code",
   "execution_count": 9,
   "metadata": {
    "collapsed": true
   },
   "outputs": [],
   "source": [
    "tweetsDF <- twListToDF(tweets_rt)"
   ]
  },
  {
   "cell_type": "code",
   "execution_count": 11,
   "metadata": {
    "collapsed": false
   },
   "outputs": [
    {
     "data": {
      "text/html": [
       "<table>\n",
       "<thead><tr><th scope=col>text</th><th scope=col>favorited</th><th scope=col>favoriteCount</th><th scope=col>replyToSN</th><th scope=col>created</th><th scope=col>truncated</th><th scope=col>replyToSID</th><th scope=col>id</th><th scope=col>replyToUID</th><th scope=col>statusSource</th><th scope=col>screenName</th><th scope=col>retweetCount</th><th scope=col>isRetweet</th><th scope=col>retweeted</th><th scope=col>longitude</th><th scope=col>latitude</th></tr></thead>\n",
       "<tbody>\n",
       "\t<tr><td><span style=white-space:pre-wrap>#Soccer #Sport Nike Mercurial Superfly FG 641858-803 Football Cleats Soccer Shoes Boots https://t.co/PfvyXTmX1V https://t.co/l1tbqIOwOw     </span></td><td>FALSE                                                                                                                                                                               </td><td>0                                                                                                                                                                                   </td><td><span style=white-space:pre-wrap>NA             </span>                                                                                                                             </td><td>2017-04-19 02:30:39                                                                                                                                                                 </td><td>FALSE                                                                                                                                                                               </td><td><span style=white-space:pre-wrap>NA                </span>                                                                                                                          </td><td>854522602450071552                                                                                                                                                                  </td><td><span style=white-space:pre-wrap>NA        </span>                                                                                                                                  </td><td><span style=white-space:pre-wrap>&lt;a href=\"https://dlvrit.com/\" rel=\"nofollow\"&gt;dlvr.it&lt;/a&gt;                            </span>                                            </td><td><span style=white-space:pre-wrap>Pop_sport      </span>                                                                                                                             </td><td>0                                                                                                                                                                                   </td><td>FALSE                                                                                                                                                                               </td><td>FALSE                                                                                                                                                                               </td><td>NA                                                                                                                                                                                  </td><td>NA                                                                                                                                                                                  </td></tr>\n",
       "\t<tr><td><span style=white-space:pre-wrap>I love hockey and baseball and basketball and soccer and football and golf and track and sports                                             </span></td><td>FALSE                                                                                                                                                                               </td><td>0                                                                                                                                                                                   </td><td><span style=white-space:pre-wrap>NA             </span>                                                                                                                             </td><td>2017-04-19 02:27:02                                                                                                                                                                 </td><td>FALSE                                                                                                                                                                               </td><td><span style=white-space:pre-wrap>NA                </span>                                                                                                                          </td><td>854521694433759232                                                                                                                                                                  </td><td><span style=white-space:pre-wrap>NA        </span>                                                                                                                                  </td><td>&lt;a href=\"http://twitter.com/download/android\" rel=\"nofollow\"&gt;Twitter for Android&lt;/a&gt;                                                                                    </td><td>Julio_Reynolds                                                                                                                                                                      </td><td>0                                                                                                                                                                                   </td><td>FALSE                                                                                                                                                                               </td><td>FALSE                                                                                                                                                                               </td><td>NA                                                                                                                                                                                  </td><td>NA                                                                                                                                                                                  </td></tr>\n",
       "\t<tr><td><span style=white-space:pre-wrap>@dono24 @BarailM Same shit dont act like you dont know football soccer no difference same meaning                                           </span></td><td>FALSE                                                                                                                                                                               </td><td>0                                                                                                                                                                                   </td><td><span style=white-space:pre-wrap>dono24         </span>                                                                                                                             </td><td>2017-04-19 02:24:15                                                                                                                                                                 </td><td>FALSE                                                                                                                                                                               </td><td>854520812367302656                                                                                                                                                                  </td><td>854520991309025282                                                                                                                                                                  </td><td><span style=white-space:pre-wrap>51978498  </span>                                                                                                                                  </td><td><span style=white-space:pre-wrap>&lt;a href=\"http://twitter.com/download/iphone\" rel=\"nofollow\"&gt;Twitter for iPhone&lt;/a&gt;  </span>                                            </td><td><span style=white-space:pre-wrap>AkAg_          </span>                                                                                                                             </td><td>0                                                                                                                                                                                   </td><td>FALSE                                                                                                                                                                               </td><td>FALSE                                                                                                                                                                               </td><td>NA                                                                                                                                                                                  </td><td>NA                                                                                                                                                                                  </td></tr>\n",
       "\t<tr><td><span style=white-space:pre-wrap>#WorldCup #FIFA Vintage 2006 France FFF Adidas World Cup Soccer Futbol Jersey Medium MED https://t.co/JJP9d26wKo #FootBall #Deals           </span></td><td>FALSE                                                                                                                                                                               </td><td>0                                                                                                                                                                                   </td><td><span style=white-space:pre-wrap>NA             </span>                                                                                                                             </td><td>2017-04-19 02:24:08                                                                                                                                                                 </td><td>FALSE                                                                                                                                                                               </td><td><span style=white-space:pre-wrap>NA                </span>                                                                                                                          </td><td>854520961155997696                                                                                                                                                                  </td><td><span style=white-space:pre-wrap>NA        </span>                                                                                                                                  </td><td><span style=white-space:pre-wrap>&lt;a href=\"https://dlvrit.com/\" rel=\"nofollow\"&gt;dlvr.it&lt;/a&gt;                            </span>                                            </td><td><span style=white-space:pre-wrap>HotTrends8     </span>                                                                                                                             </td><td>0                                                                                                                                                                                   </td><td>FALSE                                                                                                                                                                               </td><td>FALSE                                                                                                                                                                               </td><td>NA                                                                                                                                                                                  </td><td>NA                                                                                                                                                                                  </td></tr>\n",
       "\t<tr><td>@kitchmender More goals than soccer, just as physical as football, faster pace than basketball, and better atmosphe… https://t.co/E0bo1mdwu6</td><td>FALSE                                                                                                                                       </td><td>1                                                                                                                                           </td><td>not_alex_spartz                                                                                                                             </td><td>2017-04-19 02:20:22                                                                                                                         </td><td> TRUE                                                                                                                                       </td><td>854519788575522818                                                                                                                          </td><td>854520015277740032                                                                                                                          </td><td>1110304807                                                                                                                                  </td><td><span style=white-space:pre-wrap>&lt;a href=\"http://twitter.com/download/iphone\" rel=\"nofollow\"&gt;Twitter for iPhone&lt;/a&gt;  </span>    </td><td>not_alex_spartz                                                                                                                             </td><td>0                                                                                                                                           </td><td>FALSE                                                                                                                                       </td><td>FALSE                                                                                                                                       </td><td>NA                                                                                                                                          </td><td>NA                                                                                                                                          </td></tr>\n",
       "\t<tr><td><span style=white-space:pre-wrap>Blow to Bayern: Neuer could miss remainder of season with fractured foot https://t.co/y02ka6nYbx https://t.co/CKT0BXbPG8                    </span></td><td>FALSE                                                                                                                                                                               </td><td>0                                                                                                                                                                                   </td><td><span style=white-space:pre-wrap>NA             </span>                                                                                                                             </td><td>2017-04-19 02:19:09                                                                                                                                                                 </td><td>FALSE                                                                                                                                                                               </td><td><span style=white-space:pre-wrap>NA                </span>                                                                                                                          </td><td>854519707856027648                                                                                                                                                                  </td><td><span style=white-space:pre-wrap>NA        </span>                                                                                                                                  </td><td><span style=white-space:pre-wrap>&lt;a href=\"https://dlvrit.com/\" rel=\"nofollow\"&gt;dlvr.it&lt;/a&gt;                            </span>                                            </td><td><span style=white-space:pre-wrap>fullnflnews    </span>                                                                                                                             </td><td>0                                                                                                                                                                                   </td><td>FALSE                                                                                                                                                                               </td><td>FALSE                                                                                                                                                                               </td><td>NA                                                                                                                                                                                  </td><td>NA                                                                                                                                                                                  </td></tr>\n",
       "</tbody>\n",
       "</table>\n"
      ],
      "text/latex": [
       "\\begin{tabular}{r|llllllllllllllll}\n",
       " text & favorited & favoriteCount & replyToSN & created & truncated & replyToSID & id & replyToUID & statusSource & screenName & retweetCount & isRetweet & retweeted & longitude & latitude\\\\\n",
       "\\hline\n",
       "\t \\#Soccer \\#Sport Nike Mercurial Superfly FG 641858-803 Football Cleats Soccer Shoes Boots https://t.co/PfvyXTmX1V https://t.co/l1tbqIOwOw      & FALSE                                                                                                                                            & 0                                                                                                                                                & NA                                                                                                                                               & 2017-04-19 02:30:39                                                                                                                              & FALSE                                                                                                                                            & NA                                                                                                                                               & 854522602450071552                                                                                                                               & NA                                                                                                                                               & <a href=\"https://dlvrit.com/\" rel=\"nofollow\">dlvr.it</a>                                                                                         & Pop\\_sport                                                                                                                                      & 0                                                                                                                                                & FALSE                                                                                                                                            & FALSE                                                                                                                                            & NA                                                                                                                                               & NA                                                                                                                                              \\\\\n",
       "\t I love hockey and baseball and basketball and soccer and football and golf and track and sports                                              & FALSE                                                                                                                                        & 0                                                                                                                                            & NA                                                                                                                                           & 2017-04-19 02:27:02                                                                                                                          & FALSE                                                                                                                                        & NA                                                                                                                                           & 854521694433759232                                                                                                                           & NA                                                                                                                                           & <a href=\"http://twitter.com/download/android\" rel=\"nofollow\">Twitter for Android</a>                                                         & Julio\\_Reynolds                                                                                                                             & 0                                                                                                                                            & FALSE                                                                                                                                        & FALSE                                                                                                                                        & NA                                                                                                                                           & NA                                                                                                                                          \\\\\n",
       "\t @dono24 @BarailM Same shit dont act like you dont know football soccer no difference same meaning                                            & FALSE                                                                                                                                        & 0                                                                                                                                            & dono24                                                                                                                                       & 2017-04-19 02:24:15                                                                                                                          & FALSE                                                                                                                                        & 854520812367302656                                                                                                                           & 854520991309025282                                                                                                                           & 51978498                                                                                                                                     & <a href=\"http://twitter.com/download/iphone\" rel=\"nofollow\">Twitter for iPhone</a>                                                           & AkAg\\_                                                                                                                                      & 0                                                                                                                                            & FALSE                                                                                                                                        & FALSE                                                                                                                                        & NA                                                                                                                                           & NA                                                                                                                                          \\\\\n",
       "\t \\#WorldCup \\#FIFA Vintage 2006 France FFF Adidas World Cup Soccer Futbol Jersey Medium MED https://t.co/JJP9d26wKo \\#FootBall \\#Deals            & FALSE                                                                                                                                                & 0                                                                                                                                                    & NA                                                                                                                                                   & 2017-04-19 02:24:08                                                                                                                                  & FALSE                                                                                                                                                & NA                                                                                                                                                   & 854520961155997696                                                                                                                                   & NA                                                                                                                                                   & <a href=\"https://dlvrit.com/\" rel=\"nofollow\">dlvr.it</a>                                                                                             & HotTrends8                                                                                                                                           & 0                                                                                                                                                    & FALSE                                                                                                                                                & FALSE                                                                                                                                                & NA                                                                                                                                                   & NA                                                                                                                                                  \\\\\n",
       "\t @kitchmender More goals than soccer, just as physical as football, faster pace than basketball, and better atmosphe… https://t.co/E0bo1mdwu6 & FALSE                                                                                                                                        & 1                                                                                                                                            & not\\_alex\\_spartz                                                                                                                          & 2017-04-19 02:20:22                                                                                                                          &  TRUE                                                                                                                                        & 854519788575522818                                                                                                                           & 854520015277740032                                                                                                                           & 1110304807                                                                                                                                   & <a href=\"http://twitter.com/download/iphone\" rel=\"nofollow\">Twitter for iPhone</a>                                                           & not\\_alex\\_spartz                                                                                                                          & 0                                                                                                                                            & FALSE                                                                                                                                        & FALSE                                                                                                                                        & NA                                                                                                                                           & NA                                                                                                                                          \\\\\n",
       "\t Blow to Bayern: Neuer could miss remainder of season with fractured foot https://t.co/y02ka6nYbx https://t.co/CKT0BXbPG8                     & FALSE                                                                                                                                        & 0                                                                                                                                            & NA                                                                                                                                           & 2017-04-19 02:19:09                                                                                                                          & FALSE                                                                                                                                        & NA                                                                                                                                           & 854519707856027648                                                                                                                           & NA                                                                                                                                           & <a href=\"https://dlvrit.com/\" rel=\"nofollow\">dlvr.it</a>                                                                                     & fullnflnews                                                                                                                                  & 0                                                                                                                                            & FALSE                                                                                                                                        & FALSE                                                                                                                                        & NA                                                                                                                                           & NA                                                                                                                                          \\\\\n",
       "\\end{tabular}\n"
      ],
      "text/markdown": [
       "\n",
       "text | favorited | favoriteCount | replyToSN | created | truncated | replyToSID | id | replyToUID | statusSource | screenName | retweetCount | isRetweet | retweeted | longitude | latitude | \n",
       "|---|---|---|---|---|---|\n",
       "| #Soccer #Sport Nike Mercurial Superfly FG 641858-803 Football Cleats Soccer Shoes Boots https://t.co/PfvyXTmX1V https://t.co/l1tbqIOwOw      | FALSE                                                                                                                                        | 0                                                                                                                                            | NA                                                                                                                                           | 2017-04-19 02:30:39                                                                                                                          | FALSE                                                                                                                                        | NA                                                                                                                                           | 854522602450071552                                                                                                                           | NA                                                                                                                                           | <a href=\"https://dlvrit.com/\" rel=\"nofollow\">dlvr.it</a>                                                                                     | Pop_sport                                                                                                                                    | 0                                                                                                                                            | FALSE                                                                                                                                        | FALSE                                                                                                                                        | NA                                                                                                                                           | NA                                                                                                                                           | \n",
       "| I love hockey and baseball and basketball and soccer and football and golf and track and sports                                              | FALSE                                                                                                                                        | 0                                                                                                                                            | NA                                                                                                                                           | 2017-04-19 02:27:02                                                                                                                          | FALSE                                                                                                                                        | NA                                                                                                                                           | 854521694433759232                                                                                                                           | NA                                                                                                                                           | <a href=\"http://twitter.com/download/android\" rel=\"nofollow\">Twitter for Android</a>                                                         | Julio_Reynolds                                                                                                                               | 0                                                                                                                                            | FALSE                                                                                                                                        | FALSE                                                                                                                                        | NA                                                                                                                                           | NA                                                                                                                                           | \n",
       "| @dono24 @BarailM Same shit dont act like you dont know football soccer no difference same meaning                                            | FALSE                                                                                                                                        | 0                                                                                                                                            | dono24                                                                                                                                       | 2017-04-19 02:24:15                                                                                                                          | FALSE                                                                                                                                        | 854520812367302656                                                                                                                           | 854520991309025282                                                                                                                           | 51978498                                                                                                                                     | <a href=\"http://twitter.com/download/iphone\" rel=\"nofollow\">Twitter for iPhone</a>                                                           | AkAg_                                                                                                                                        | 0                                                                                                                                            | FALSE                                                                                                                                        | FALSE                                                                                                                                        | NA                                                                                                                                           | NA                                                                                                                                           | \n",
       "| #WorldCup #FIFA Vintage 2006 France FFF Adidas World Cup Soccer Futbol Jersey Medium MED https://t.co/JJP9d26wKo #FootBall #Deals            | FALSE                                                                                                                                        | 0                                                                                                                                            | NA                                                                                                                                           | 2017-04-19 02:24:08                                                                                                                          | FALSE                                                                                                                                        | NA                                                                                                                                           | 854520961155997696                                                                                                                           | NA                                                                                                                                           | <a href=\"https://dlvrit.com/\" rel=\"nofollow\">dlvr.it</a>                                                                                     | HotTrends8                                                                                                                                   | 0                                                                                                                                            | FALSE                                                                                                                                        | FALSE                                                                                                                                        | NA                                                                                                                                           | NA                                                                                                                                           | \n",
       "| @kitchmender More goals than soccer, just as physical as football, faster pace than basketball, and better atmosphe… https://t.co/E0bo1mdwu6 | FALSE                                                                                                                                        | 1                                                                                                                                            | not_alex_spartz                                                                                                                              | 2017-04-19 02:20:22                                                                                                                          |  TRUE                                                                                                                                        | 854519788575522818                                                                                                                           | 854520015277740032                                                                                                                           | 1110304807                                                                                                                                   | <a href=\"http://twitter.com/download/iphone\" rel=\"nofollow\">Twitter for iPhone</a>                                                           | not_alex_spartz                                                                                                                              | 0                                                                                                                                            | FALSE                                                                                                                                        | FALSE                                                                                                                                        | NA                                                                                                                                           | NA                                                                                                                                           | \n",
       "| Blow to Bayern: Neuer could miss remainder of season with fractured foot https://t.co/y02ka6nYbx https://t.co/CKT0BXbPG8                     | FALSE                                                                                                                                        | 0                                                                                                                                            | NA                                                                                                                                           | 2017-04-19 02:19:09                                                                                                                          | FALSE                                                                                                                                        | NA                                                                                                                                           | 854519707856027648                                                                                                                           | NA                                                                                                                                           | <a href=\"https://dlvrit.com/\" rel=\"nofollow\">dlvr.it</a>                                                                                     | fullnflnews                                                                                                                                  | 0                                                                                                                                            | FALSE                                                                                                                                        | FALSE                                                                                                                                        | NA                                                                                                                                           | NA                                                                                                                                           | \n",
       "\n",
       "\n"
      ],
      "text/plain": [
       "  text                                                                                                                                        \n",
       "1 #Soccer #Sport Nike Mercurial Superfly FG 641858-803 Football Cleats Soccer Shoes Boots https://t.co/PfvyXTmX1V https://t.co/l1tbqIOwOw     \n",
       "2 I love hockey and baseball and basketball and soccer and football and golf and track and sports                                             \n",
       "3 @dono24 @BarailM Same shit dont act like you dont know football soccer no difference same meaning                                           \n",
       "4 #WorldCup #FIFA Vintage 2006 France FFF Adidas World Cup Soccer Futbol Jersey Medium MED https://t.co/JJP9d26wKo #FootBall #Deals           \n",
       "5 @kitchmender More goals than soccer, just as physical as football, faster pace than basketball, and better atmosphe",
       " https://t.co/E0bo1mdwu6\n",
       "6 Blow to Bayern: Neuer could miss remainder of season with fractured foot https://t.co/y02ka6nYbx https://t.co/CKT0BXbPG8                    \n",
       "  favorited favoriteCount replyToSN       created             truncated\n",
       "1 FALSE     0             NA              2017-04-19 02:30:39 FALSE    \n",
       "2 FALSE     0             NA              2017-04-19 02:27:02 FALSE    \n",
       "3 FALSE     0             dono24          2017-04-19 02:24:15 FALSE    \n",
       "4 FALSE     0             NA              2017-04-19 02:24:08 FALSE    \n",
       "5 FALSE     1             not_alex_spartz 2017-04-19 02:20:22  TRUE    \n",
       "6 FALSE     0             NA              2017-04-19 02:19:09 FALSE    \n",
       "  replyToSID         id                 replyToUID\n",
       "1 NA                 854522602450071552 NA        \n",
       "2 NA                 854521694433759232 NA        \n",
       "3 854520812367302656 854520991309025282 51978498  \n",
       "4 NA                 854520961155997696 NA        \n",
       "5 854519788575522818 854520015277740032 1110304807\n",
       "6 NA                 854519707856027648 NA        \n",
       "  statusSource                                                                        \n",
       "1 <a href=\"https://dlvrit.com/\" rel=\"nofollow\">dlvr.it</a>                            \n",
       "2 <a href=\"http://twitter.com/download/android\" rel=\"nofollow\">Twitter for Android</a>\n",
       "3 <a href=\"http://twitter.com/download/iphone\" rel=\"nofollow\">Twitter for iPhone</a>  \n",
       "4 <a href=\"https://dlvrit.com/\" rel=\"nofollow\">dlvr.it</a>                            \n",
       "5 <a href=\"http://twitter.com/download/iphone\" rel=\"nofollow\">Twitter for iPhone</a>  \n",
       "6 <a href=\"https://dlvrit.com/\" rel=\"nofollow\">dlvr.it</a>                            \n",
       "  screenName      retweetCount isRetweet retweeted longitude latitude\n",
       "1 Pop_sport       0            FALSE     FALSE     NA        NA      \n",
       "2 Julio_Reynolds  0            FALSE     FALSE     NA        NA      \n",
       "3 AkAg_           0            FALSE     FALSE     NA        NA      \n",
       "4 HotTrends8      0            FALSE     FALSE     NA        NA      \n",
       "5 not_alex_spartz 0            FALSE     FALSE     NA        NA      \n",
       "6 fullnflnews     0            FALSE     FALSE     NA        NA      "
      ]
     },
     "metadata": {},
     "output_type": "display_data"
    }
   ],
   "source": [
    "head(tweetsDF)"
   ]
  },
  {
   "cell_type": "code",
   "execution_count": 16,
   "metadata": {
    "collapsed": true
   },
   "outputs": [],
   "source": [
    "write.csv(tweetsDF,file=\"football.csv\")"
   ]
  },
  {
   "cell_type": "code",
   "execution_count": 66,
   "metadata": {
    "collapsed": false
   },
   "outputs": [
    {
     "data": {
      "text/html": [
       "<table>\n",
       "<thead><tr><th scope=col>X</th><th scope=col>text</th><th scope=col>favorited</th><th scope=col>favoriteCount</th><th scope=col>replyToSN</th><th scope=col>created</th><th scope=col>truncated</th><th scope=col>replyToSID</th><th scope=col>id</th><th scope=col>replyToUID</th><th scope=col>statusSource</th><th scope=col>screenName</th><th scope=col>retweetCount</th><th scope=col>isRetweet</th><th scope=col>retweeted</th><th scope=col>longitude</th><th scope=col>latitude</th></tr></thead>\n",
       "<tbody>\n",
       "\t<tr><td>1                                                                                                                                                                                   </td><td><span style=white-space:pre-wrap>#Soccer #Sport Nike Mercurial Superfly FG 641858-803 Football Cleats Soccer Shoes Boots https://t.co/PfvyXTmX1V https://t.co/l1tbqIOwOw     </span></td><td>FALSE                                                                                                                                                                               </td><td>0                                                                                                                                                                                   </td><td><span style=white-space:pre-wrap>NA             </span>                                                                                                                             </td><td>2017-04-19 02:30:39                                                                                                                                                                 </td><td>FALSE                                                                                                                                                                               </td><td><span style=white-space:pre-wrap>          NA</span>                                                                                                                                </td><td>8.545226e+17                                                                                                                                                                        </td><td><span style=white-space:pre-wrap>        NA</span>                                                                                                                                  </td><td><span style=white-space:pre-wrap>&lt;a href=\"https://dlvrit.com/\" rel=\"nofollow\"&gt;dlvr.it&lt;/a&gt;                            </span>                                            </td><td><span style=white-space:pre-wrap>Pop_sport      </span>                                                                                                                             </td><td>0                                                                                                                                                                                   </td><td>FALSE                                                                                                                                                                               </td><td>FALSE                                                                                                                                                                               </td><td>NA                                                                                                                                                                                  </td><td>NA                                                                                                                                                                                  </td></tr>\n",
       "\t<tr><td>2                                                                                                                                                                                   </td><td><span style=white-space:pre-wrap>I love hockey and baseball and basketball and soccer and football and golf and track and sports                                             </span></td><td>FALSE                                                                                                                                                                               </td><td>0                                                                                                                                                                                   </td><td><span style=white-space:pre-wrap>NA             </span>                                                                                                                             </td><td>2017-04-19 02:27:02                                                                                                                                                                 </td><td>FALSE                                                                                                                                                                               </td><td><span style=white-space:pre-wrap>          NA</span>                                                                                                                                </td><td>8.545217e+17                                                                                                                                                                        </td><td><span style=white-space:pre-wrap>        NA</span>                                                                                                                                  </td><td>&lt;a href=\"http://twitter.com/download/android\" rel=\"nofollow\"&gt;Twitter for Android&lt;/a&gt;                                                                                    </td><td>Julio_Reynolds                                                                                                                                                                      </td><td>0                                                                                                                                                                                   </td><td>FALSE                                                                                                                                                                               </td><td>FALSE                                                                                                                                                                               </td><td>NA                                                                                                                                                                                  </td><td>NA                                                                                                                                                                                  </td></tr>\n",
       "\t<tr><td>3                                                                                                                                                                                   </td><td><span style=white-space:pre-wrap>@dono24 @BarailM Same shit dont act like you dont know football soccer no difference same meaning                                           </span></td><td>FALSE                                                                                                                                                                               </td><td>0                                                                                                                                                                                   </td><td><span style=white-space:pre-wrap>dono24         </span>                                                                                                                             </td><td>2017-04-19 02:24:15                                                                                                                                                                 </td><td>FALSE                                                                                                                                                                               </td><td>8.545208e+17                                                                                                                                                                        </td><td>8.545210e+17                                                                                                                                                                        </td><td><span style=white-space:pre-wrap>  51978498</span>                                                                                                                                  </td><td><span style=white-space:pre-wrap>&lt;a href=\"http://twitter.com/download/iphone\" rel=\"nofollow\"&gt;Twitter for iPhone&lt;/a&gt;  </span>                                            </td><td><span style=white-space:pre-wrap>AkAg_          </span>                                                                                                                             </td><td>0                                                                                                                                                                                   </td><td>FALSE                                                                                                                                                                               </td><td>FALSE                                                                                                                                                                               </td><td>NA                                                                                                                                                                                  </td><td>NA                                                                                                                                                                                  </td></tr>\n",
       "\t<tr><td>4                                                                                                                                                                                   </td><td><span style=white-space:pre-wrap>#WorldCup #FIFA Vintage 2006 France FFF Adidas World Cup Soccer Futbol Jersey Medium MED https://t.co/JJP9d26wKo #FootBall #Deals           </span></td><td>FALSE                                                                                                                                                                               </td><td>0                                                                                                                                                                                   </td><td><span style=white-space:pre-wrap>NA             </span>                                                                                                                             </td><td>2017-04-19 02:24:08                                                                                                                                                                 </td><td>FALSE                                                                                                                                                                               </td><td><span style=white-space:pre-wrap>          NA</span>                                                                                                                                </td><td>8.545210e+17                                                                                                                                                                        </td><td><span style=white-space:pre-wrap>        NA</span>                                                                                                                                  </td><td><span style=white-space:pre-wrap>&lt;a href=\"https://dlvrit.com/\" rel=\"nofollow\"&gt;dlvr.it&lt;/a&gt;                            </span>                                            </td><td><span style=white-space:pre-wrap>HotTrends8     </span>                                                                                                                             </td><td>0                                                                                                                                                                                   </td><td>FALSE                                                                                                                                                                               </td><td>FALSE                                                                                                                                                                               </td><td>NA                                                                                                                                                                                  </td><td>NA                                                                                                                                                                                  </td></tr>\n",
       "\t<tr><td>5                                                                                                                                           </td><td>@kitchmender More goals than soccer, just as physical as football, faster pace than basketball, and better atmosphe… https://t.co/E0bo1mdwu6</td><td>FALSE                                                                                                                                       </td><td>1                                                                                                                                           </td><td>not_alex_spartz                                                                                                                             </td><td>2017-04-19 02:20:22                                                                                                                         </td><td> TRUE                                                                                                                                       </td><td>8.545198e+17                                                                                                                                </td><td>8.545200e+17                                                                                                                                </td><td>1110304807                                                                                                                                  </td><td><span style=white-space:pre-wrap>&lt;a href=\"http://twitter.com/download/iphone\" rel=\"nofollow\"&gt;Twitter for iPhone&lt;/a&gt;  </span>    </td><td>not_alex_spartz                                                                                                                             </td><td>0                                                                                                                                           </td><td>FALSE                                                                                                                                       </td><td>FALSE                                                                                                                                       </td><td>NA                                                                                                                                          </td><td>NA                                                                                                                                          </td></tr>\n",
       "\t<tr><td>6                                                                                                                                                                                   </td><td><span style=white-space:pre-wrap>Blow to Bayern: Neuer could miss remainder of season with fractured foot https://t.co/y02ka6nYbx https://t.co/CKT0BXbPG8                    </span></td><td>FALSE                                                                                                                                                                               </td><td>0                                                                                                                                                                                   </td><td><span style=white-space:pre-wrap>NA             </span>                                                                                                                             </td><td>2017-04-19 02:19:09                                                                                                                                                                 </td><td>FALSE                                                                                                                                                                               </td><td><span style=white-space:pre-wrap>          NA</span>                                                                                                                                </td><td>8.545197e+17                                                                                                                                                                        </td><td><span style=white-space:pre-wrap>        NA</span>                                                                                                                                  </td><td><span style=white-space:pre-wrap>&lt;a href=\"https://dlvrit.com/\" rel=\"nofollow\"&gt;dlvr.it&lt;/a&gt;                            </span>                                            </td><td><span style=white-space:pre-wrap>fullnflnews    </span>                                                                                                                             </td><td>0                                                                                                                                                                                   </td><td>FALSE                                                                                                                                                                               </td><td>FALSE                                                                                                                                                                               </td><td>NA                                                                                                                                                                                  </td><td>NA                                                                                                                                                                                  </td></tr>\n",
       "</tbody>\n",
       "</table>\n"
      ],
      "text/latex": [
       "\\begin{tabular}{r|lllllllllllllllll}\n",
       " X & text & favorited & favoriteCount & replyToSN & created & truncated & replyToSID & id & replyToUID & statusSource & screenName & retweetCount & isRetweet & retweeted & longitude & latitude\\\\\n",
       "\\hline\n",
       "\t 1                                                                                                                                                & \\#Soccer \\#Sport Nike Mercurial Superfly FG 641858-803 Football Cleats Soccer Shoes Boots https://t.co/PfvyXTmX1V https://t.co/l1tbqIOwOw      & FALSE                                                                                                                                            & 0                                                                                                                                                & NA                                                                                                                                               & 2017-04-19 02:30:39                                                                                                                              & FALSE                                                                                                                                            &           NA                                                                                                                                     & 8.545226e+17                                                                                                                                     &         NA                                                                                                                                       & <a href=\"https://dlvrit.com/\" rel=\"nofollow\">dlvr.it</a>                                                                                         & Pop\\_sport                                                                                                                                      & 0                                                                                                                                                & FALSE                                                                                                                                            & FALSE                                                                                                                                            & NA                                                                                                                                               & NA                                                                                                                                              \\\\\n",
       "\t 2                                                                                                                                            & I love hockey and baseball and basketball and soccer and football and golf and track and sports                                              & FALSE                                                                                                                                        & 0                                                                                                                                            & NA                                                                                                                                           & 2017-04-19 02:27:02                                                                                                                          & FALSE                                                                                                                                        &           NA                                                                                                                                 & 8.545217e+17                                                                                                                                 &         NA                                                                                                                                   & <a href=\"http://twitter.com/download/android\" rel=\"nofollow\">Twitter for Android</a>                                                         & Julio\\_Reynolds                                                                                                                             & 0                                                                                                                                            & FALSE                                                                                                                                        & FALSE                                                                                                                                        & NA                                                                                                                                           & NA                                                                                                                                          \\\\\n",
       "\t 3                                                                                                                                            & @dono24 @BarailM Same shit dont act like you dont know football soccer no difference same meaning                                            & FALSE                                                                                                                                        & 0                                                                                                                                            & dono24                                                                                                                                       & 2017-04-19 02:24:15                                                                                                                          & FALSE                                                                                                                                        & 8.545208e+17                                                                                                                                 & 8.545210e+17                                                                                                                                 &   51978498                                                                                                                                   & <a href=\"http://twitter.com/download/iphone\" rel=\"nofollow\">Twitter for iPhone</a>                                                           & AkAg\\_                                                                                                                                      & 0                                                                                                                                            & FALSE                                                                                                                                        & FALSE                                                                                                                                        & NA                                                                                                                                           & NA                                                                                                                                          \\\\\n",
       "\t 4                                                                                                                                                    & \\#WorldCup \\#FIFA Vintage 2006 France FFF Adidas World Cup Soccer Futbol Jersey Medium MED https://t.co/JJP9d26wKo \\#FootBall \\#Deals            & FALSE                                                                                                                                                & 0                                                                                                                                                    & NA                                                                                                                                                   & 2017-04-19 02:24:08                                                                                                                                  & FALSE                                                                                                                                                &           NA                                                                                                                                         & 8.545210e+17                                                                                                                                         &         NA                                                                                                                                           & <a href=\"https://dlvrit.com/\" rel=\"nofollow\">dlvr.it</a>                                                                                             & HotTrends8                                                                                                                                           & 0                                                                                                                                                    & FALSE                                                                                                                                                & FALSE                                                                                                                                                & NA                                                                                                                                                   & NA                                                                                                                                                  \\\\\n",
       "\t 5                                                                                                                                            & @kitchmender More goals than soccer, just as physical as football, faster pace than basketball, and better atmosphe… https://t.co/E0bo1mdwu6 & FALSE                                                                                                                                        & 1                                                                                                                                            & not\\_alex\\_spartz                                                                                                                          & 2017-04-19 02:20:22                                                                                                                          &  TRUE                                                                                                                                        & 8.545198e+17                                                                                                                                 & 8.545200e+17                                                                                                                                 & 1110304807                                                                                                                                   & <a href=\"http://twitter.com/download/iphone\" rel=\"nofollow\">Twitter for iPhone</a>                                                           & not\\_alex\\_spartz                                                                                                                          & 0                                                                                                                                            & FALSE                                                                                                                                        & FALSE                                                                                                                                        & NA                                                                                                                                           & NA                                                                                                                                          \\\\\n",
       "\t 6                                                                                                                                            & Blow to Bayern: Neuer could miss remainder of season with fractured foot https://t.co/y02ka6nYbx https://t.co/CKT0BXbPG8                     & FALSE                                                                                                                                        & 0                                                                                                                                            & NA                                                                                                                                           & 2017-04-19 02:19:09                                                                                                                          & FALSE                                                                                                                                        &           NA                                                                                                                                 & 8.545197e+17                                                                                                                                 &         NA                                                                                                                                   & <a href=\"https://dlvrit.com/\" rel=\"nofollow\">dlvr.it</a>                                                                                     & fullnflnews                                                                                                                                  & 0                                                                                                                                            & FALSE                                                                                                                                        & FALSE                                                                                                                                        & NA                                                                                                                                           & NA                                                                                                                                          \\\\\n",
       "\\end{tabular}\n"
      ],
      "text/markdown": [
       "\n",
       "X | text | favorited | favoriteCount | replyToSN | created | truncated | replyToSID | id | replyToUID | statusSource | screenName | retweetCount | isRetweet | retweeted | longitude | latitude | \n",
       "|---|---|---|---|---|---|\n",
       "| 1                                                                                                                                            | #Soccer #Sport Nike Mercurial Superfly FG 641858-803 Football Cleats Soccer Shoes Boots https://t.co/PfvyXTmX1V https://t.co/l1tbqIOwOw      | FALSE                                                                                                                                        | 0                                                                                                                                            | NA                                                                                                                                           | 2017-04-19 02:30:39                                                                                                                          | FALSE                                                                                                                                        |           NA                                                                                                                                 | 8.545226e+17                                                                                                                                 |         NA                                                                                                                                   | <a href=\"https://dlvrit.com/\" rel=\"nofollow\">dlvr.it</a>                                                                                     | Pop_sport                                                                                                                                    | 0                                                                                                                                            | FALSE                                                                                                                                        | FALSE                                                                                                                                        | NA                                                                                                                                           | NA                                                                                                                                           | \n",
       "| 2                                                                                                                                            | I love hockey and baseball and basketball and soccer and football and golf and track and sports                                              | FALSE                                                                                                                                        | 0                                                                                                                                            | NA                                                                                                                                           | 2017-04-19 02:27:02                                                                                                                          | FALSE                                                                                                                                        |           NA                                                                                                                                 | 8.545217e+17                                                                                                                                 |         NA                                                                                                                                   | <a href=\"http://twitter.com/download/android\" rel=\"nofollow\">Twitter for Android</a>                                                         | Julio_Reynolds                                                                                                                               | 0                                                                                                                                            | FALSE                                                                                                                                        | FALSE                                                                                                                                        | NA                                                                                                                                           | NA                                                                                                                                           | \n",
       "| 3                                                                                                                                            | @dono24 @BarailM Same shit dont act like you dont know football soccer no difference same meaning                                            | FALSE                                                                                                                                        | 0                                                                                                                                            | dono24                                                                                                                                       | 2017-04-19 02:24:15                                                                                                                          | FALSE                                                                                                                                        | 8.545208e+17                                                                                                                                 | 8.545210e+17                                                                                                                                 |   51978498                                                                                                                                   | <a href=\"http://twitter.com/download/iphone\" rel=\"nofollow\">Twitter for iPhone</a>                                                           | AkAg_                                                                                                                                        | 0                                                                                                                                            | FALSE                                                                                                                                        | FALSE                                                                                                                                        | NA                                                                                                                                           | NA                                                                                                                                           | \n",
       "| 4                                                                                                                                            | #WorldCup #FIFA Vintage 2006 France FFF Adidas World Cup Soccer Futbol Jersey Medium MED https://t.co/JJP9d26wKo #FootBall #Deals            | FALSE                                                                                                                                        | 0                                                                                                                                            | NA                                                                                                                                           | 2017-04-19 02:24:08                                                                                                                          | FALSE                                                                                                                                        |           NA                                                                                                                                 | 8.545210e+17                                                                                                                                 |         NA                                                                                                                                   | <a href=\"https://dlvrit.com/\" rel=\"nofollow\">dlvr.it</a>                                                                                     | HotTrends8                                                                                                                                   | 0                                                                                                                                            | FALSE                                                                                                                                        | FALSE                                                                                                                                        | NA                                                                                                                                           | NA                                                                                                                                           | \n",
       "| 5                                                                                                                                            | @kitchmender More goals than soccer, just as physical as football, faster pace than basketball, and better atmosphe… https://t.co/E0bo1mdwu6 | FALSE                                                                                                                                        | 1                                                                                                                                            | not_alex_spartz                                                                                                                              | 2017-04-19 02:20:22                                                                                                                          |  TRUE                                                                                                                                        | 8.545198e+17                                                                                                                                 | 8.545200e+17                                                                                                                                 | 1110304807                                                                                                                                   | <a href=\"http://twitter.com/download/iphone\" rel=\"nofollow\">Twitter for iPhone</a>                                                           | not_alex_spartz                                                                                                                              | 0                                                                                                                                            | FALSE                                                                                                                                        | FALSE                                                                                                                                        | NA                                                                                                                                           | NA                                                                                                                                           | \n",
       "| 6                                                                                                                                            | Blow to Bayern: Neuer could miss remainder of season with fractured foot https://t.co/y02ka6nYbx https://t.co/CKT0BXbPG8                     | FALSE                                                                                                                                        | 0                                                                                                                                            | NA                                                                                                                                           | 2017-04-19 02:19:09                                                                                                                          | FALSE                                                                                                                                        |           NA                                                                                                                                 | 8.545197e+17                                                                                                                                 |         NA                                                                                                                                   | <a href=\"https://dlvrit.com/\" rel=\"nofollow\">dlvr.it</a>                                                                                     | fullnflnews                                                                                                                                  | 0                                                                                                                                            | FALSE                                                                                                                                        | FALSE                                                                                                                                        | NA                                                                                                                                           | NA                                                                                                                                           | \n",
       "\n",
       "\n"
      ],
      "text/plain": [
       "  X\n",
       "1 1\n",
       "2 2\n",
       "3 3\n",
       "4 4\n",
       "5 5\n",
       "6 6\n",
       "  text                                                                                                                                        \n",
       "1 #Soccer #Sport Nike Mercurial Superfly FG 641858-803 Football Cleats Soccer Shoes Boots https://t.co/PfvyXTmX1V https://t.co/l1tbqIOwOw     \n",
       "2 I love hockey and baseball and basketball and soccer and football and golf and track and sports                                             \n",
       "3 @dono24 @BarailM Same shit dont act like you dont know football soccer no difference same meaning                                           \n",
       "4 #WorldCup #FIFA Vintage 2006 France FFF Adidas World Cup Soccer Futbol Jersey Medium MED https://t.co/JJP9d26wKo #FootBall #Deals           \n",
       "5 @kitchmender More goals than soccer, just as physical as football, faster pace than basketball, and better atmosphe",
       " https://t.co/E0bo1mdwu6\n",
       "6 Blow to Bayern: Neuer could miss remainder of season with fractured foot https://t.co/y02ka6nYbx https://t.co/CKT0BXbPG8                    \n",
       "  favorited favoriteCount replyToSN       created             truncated\n",
       "1 FALSE     0             NA              2017-04-19 02:30:39 FALSE    \n",
       "2 FALSE     0             NA              2017-04-19 02:27:02 FALSE    \n",
       "3 FALSE     0             dono24          2017-04-19 02:24:15 FALSE    \n",
       "4 FALSE     0             NA              2017-04-19 02:24:08 FALSE    \n",
       "5 FALSE     1             not_alex_spartz 2017-04-19 02:20:22  TRUE    \n",
       "6 FALSE     0             NA              2017-04-19 02:19:09 FALSE    \n",
       "  replyToSID   id           replyToUID\n",
       "1           NA 8.545226e+17         NA\n",
       "2           NA 8.545217e+17         NA\n",
       "3 8.545208e+17 8.545210e+17   51978498\n",
       "4           NA 8.545210e+17         NA\n",
       "5 8.545198e+17 8.545200e+17 1110304807\n",
       "6           NA 8.545197e+17         NA\n",
       "  statusSource                                                                        \n",
       "1 <a href=\"https://dlvrit.com/\" rel=\"nofollow\">dlvr.it</a>                            \n",
       "2 <a href=\"http://twitter.com/download/android\" rel=\"nofollow\">Twitter for Android</a>\n",
       "3 <a href=\"http://twitter.com/download/iphone\" rel=\"nofollow\">Twitter for iPhone</a>  \n",
       "4 <a href=\"https://dlvrit.com/\" rel=\"nofollow\">dlvr.it</a>                            \n",
       "5 <a href=\"http://twitter.com/download/iphone\" rel=\"nofollow\">Twitter for iPhone</a>  \n",
       "6 <a href=\"https://dlvrit.com/\" rel=\"nofollow\">dlvr.it</a>                            \n",
       "  screenName      retweetCount isRetweet retweeted longitude latitude\n",
       "1 Pop_sport       0            FALSE     FALSE     NA        NA      \n",
       "2 Julio_Reynolds  0            FALSE     FALSE     NA        NA      \n",
       "3 AkAg_           0            FALSE     FALSE     NA        NA      \n",
       "4 HotTrends8      0            FALSE     FALSE     NA        NA      \n",
       "5 not_alex_spartz 0            FALSE     FALSE     NA        NA      \n",
       "6 fullnflnews     0            FALSE     FALSE     NA        NA      "
      ]
     },
     "metadata": {},
     "output_type": "display_data"
    }
   ],
   "source": [
    "tweetsDF <- read.csv(\"football.csv\")\n",
    "head(tweetsDF)"
   ]
  },
  {
   "cell_type": "markdown",
   "metadata": {},
   "source": [
    "#### The following code to clean the tweets is taken from\n",
    "\n",
    "http://stackoverflow.com/questions/31348453/how-do-i-clean-twitter-data-in-r"
   ]
  },
  {
   "cell_type": "code",
   "execution_count": 67,
   "metadata": {
    "collapsed": false
   },
   "outputs": [],
   "source": [
    "#To remove the urls from the tweet\n",
    "tweetsDF[[2]] <- gsub(\"http\\\\S+\\\\s*\", \"\", tweetsDF[[2]], ignore.case = TRUE)"
   ]
  },
  {
   "cell_type": "code",
   "execution_count": 68,
   "metadata": {
    "collapsed": false
   },
   "outputs": [],
   "source": [
    "#To remove the &amp from URL encoding\n",
    "tweetsDF[[2]] <- gsub(\"&amp\", \"\", tweetsDF[[2]], ignore.case = TRUE)"
   ]
  },
  {
   "cell_type": "code",
   "execution_count": 69,
   "metadata": {
    "collapsed": false
   },
   "outputs": [],
   "source": [
    "#To remove the mentions from the tweet\n",
    "tweetsDF[[2]] <- gsub(\"@\\\\w+\", \"\", tweetsDF[[2]], ignore.case = TRUE)"
   ]
  },
  {
   "cell_type": "code",
   "execution_count": 70,
   "metadata": {
    "collapsed": true
   },
   "outputs": [],
   "source": [
    "#To remove the hashtags from the tweet\n",
    "tweetsDF[[2]] <- gsub(\"#\\\\w+\", \"\", tweetsDF[[2]], ignore.case = TRUE)"
   ]
  },
  {
   "cell_type": "code",
   "execution_count": 71,
   "metadata": {
    "collapsed": false
   },
   "outputs": [],
   "source": [
    "#To remove the emoji's from the tweet (^\\\\s*<U\\\\+\\\\w+>\\\\s*)\n",
    "tweetsDF[[2]] <- gsub(\"<\\\\S*>\", \"\", tweetsDF[[2]], ignore.case = TRUE)"
   ]
  },
  {
   "cell_type": "code",
   "execution_count": 72,
   "metadata": {
    "collapsed": false
   },
   "outputs": [],
   "source": [
    "#To remove the punctuation from the tweet\n",
    "tweetsDF[[2]] <- gsub(\"[[:punct:]]\", \"\", tweetsDF[[2]], ignore.case = TRUE)"
   ]
  },
  {
   "cell_type": "code",
   "execution_count": 73,
   "metadata": {
    "collapsed": true
   },
   "outputs": [],
   "source": [
    "#To remove the unwanted spaces at the beginning or the end\n",
    "tweetsDF[[2]] <- gsub(\"^\\\\s+|\\\\s+$\", \"\", tweetsDF[[2]], ignore.case = TRUE)"
   ]
  },
  {
   "cell_type": "code",
   "execution_count": 74,
   "metadata": {
    "collapsed": false
   },
   "outputs": [
    {
     "data": {
      "text/html": [
       "<table>\n",
       "<thead><tr><th scope=col>text</th></tr></thead>\n",
       "<tbody>\n",
       "\t<tr><td>Nike Mercurial Superfly FG 641858803 Football Cleats Soccer Shoes Boots                             </td></tr>\n",
       "\t<tr><td>I love hockey and baseball and basketball and soccer and football and golf and track and sports     </td></tr>\n",
       "\t<tr><td>Same shit dont act like you dont know football soccer no difference same meaning                    </td></tr>\n",
       "\t<tr><td>Vintage 2006 France FFF Adidas World Cup Soccer Futbol Jersey Medium MED                            </td></tr>\n",
       "\t<tr><td>More goals than soccer just as physical as football faster pace than basketball and better atmosphe…</td></tr>\n",
       "\t<tr><td>Blow to Bayern Neuer could miss remainder of season with fractured foot                             </td></tr>\n",
       "</tbody>\n",
       "</table>\n"
      ],
      "text/latex": [
       "\\begin{tabular}{r|l}\n",
       " text\\\\\n",
       "\\hline\n",
       "\t Nike Mercurial Superfly FG 641858803 Football Cleats Soccer Shoes Boots                             \\\\\n",
       "\t I love hockey and baseball and basketball and soccer and football and golf and track and sports     \\\\\n",
       "\t Same shit dont act like you dont know football soccer no difference same meaning                    \\\\\n",
       "\t Vintage 2006 France FFF Adidas World Cup Soccer Futbol Jersey Medium MED                            \\\\\n",
       "\t More goals than soccer just as physical as football faster pace than basketball and better atmosphe…\\\\\n",
       "\t Blow to Bayern Neuer could miss remainder of season with fractured foot                             \\\\\n",
       "\\end{tabular}\n"
      ],
      "text/markdown": [
       "\n",
       "text | \n",
       "|---|---|---|---|---|---|\n",
       "| Nike Mercurial Superfly FG 641858803 Football Cleats Soccer Shoes Boots                              | \n",
       "| I love hockey and baseball and basketball and soccer and football and golf and track and sports      | \n",
       "| Same shit dont act like you dont know football soccer no difference same meaning                     | \n",
       "| Vintage 2006 France FFF Adidas World Cup Soccer Futbol Jersey Medium MED                             | \n",
       "| More goals than soccer just as physical as football faster pace than basketball and better atmosphe… | \n",
       "| Blow to Bayern Neuer could miss remainder of season with fractured foot                              | \n",
       "\n",
       "\n"
      ],
      "text/plain": [
       "  text                                                                                                \n",
       "1 Nike Mercurial Superfly FG 641858803 Football Cleats Soccer Shoes Boots                             \n",
       "2 I love hockey and baseball and basketball and soccer and football and golf and track and sports     \n",
       "3 Same shit dont act like you dont know football soccer no difference same meaning                    \n",
       "4 Vintage 2006 France FFF Adidas World Cup Soccer Futbol Jersey Medium MED                            \n",
       "5 More goals than soccer just as physical as football faster pace than basketball and better atmosphe",
       "\n",
       "6 Blow to Bayern Neuer could miss remainder of season with fractured foot                             "
      ]
     },
     "metadata": {},
     "output_type": "display_data"
    }
   ],
   "source": [
    "head(tweetsDF[2])"
   ]
  },
  {
   "cell_type": "code",
   "execution_count": 76,
   "metadata": {
    "collapsed": false
   },
   "outputs": [],
   "source": [
    "write.csv(tweetsDF,\"football_filtered.csv\")"
   ]
  },
  {
   "cell_type": "code",
   "execution_count": null,
   "metadata": {
    "collapsed": true
   },
   "outputs": [],
   "source": []
  }
 ],
 "metadata": {
  "anaconda-cloud": {},
  "kernelspec": {
   "display_name": "R",
   "language": "R",
   "name": "ir"
  },
  "language_info": {
   "codemirror_mode": "r",
   "file_extension": ".r",
   "mimetype": "text/x-r-source",
   "name": "R",
   "pygments_lexer": "r",
   "version": "3.3.2"
  }
 },
 "nbformat": 4,
 "nbformat_minor": 1
}
